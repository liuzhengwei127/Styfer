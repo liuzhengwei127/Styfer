{
 "cells": [
  {
   "cell_type": "code",
   "execution_count": null,
   "metadata": {},
   "outputs": [],
   "source": [
    "%matplotlib inline\n",
    "\n",
    "from PIL import Image\n",
    "import matplotlib.pyplot as plt\n",
    "import numpy as np\n",
    "\n",
    "import torch\n",
    "import torch.optim as optim\n",
    "from torchvision import transforms, models"
   ]
  },
  {
   "cell_type": "markdown",
   "metadata": {},
   "source": [
    "### VGG19 model\n",
    "First, we'd better to load the pretrained VGG19 model from ``torchvision.models``, which saves us lots of time of training the VGG19 from scratch.\n",
    "\n",
    "VGG19 is split into two parts: \n",
    "* ``vgg19.features``, which are the convolutional and pooling layers\n",
    "* ``vgg19.classifier``, which are the three linear and classifier layers\n",
    "\n",
    "We just need to load the ``features`` portion."
   ]
  },
  {
   "cell_type": "code",
   "execution_count": null,
   "metadata": {},
   "outputs": [],
   "source": [
    "# load features of vgg19 from torchvision models\n",
    "vgg19_model = models.vgg19(pretrained = True).features\n",
    "\n",
    "for param in vgg19_model.parameters():\n",
    "    param.requires_grad_(False)\n",
    "\n",
    "# move vgg19 model to GPU if it is available\n",
    "device = torch.device(\"cuda\" if torch.cuda.is_available() else \"cpu\")\n",
    "vgg19_model.to(device)"
   ]
  },
  {
   "cell_type": "markdown",
   "metadata": {},
   "source": [
    "### Load and Transform Images"
   ]
  },
  {
   "cell_type": "code",
   "execution_count": null,
   "metadata": {},
   "outputs": [],
   "source": [
    "def load_image(img_path, shape=None, max_size=400):\n",
    "    '''\n",
    "    Load in and transform the target image defined by img_path\n",
    "    '''\n",
    "    \n",
    "    image = Image.open(img_path)\n",
    "    ### .convert('RGB')?\n",
    "    \n",
    "    if shape is not None:\n",
    "        size = shape\n",
    "    else:\n",
    "        if max(image.size) > max_size:\n",
    "            size = max_size\n",
    "        else:\n",
    "            size = max(image.size)\n",
    "    \n",
    "    img_transform = transforms.Compose([\n",
    "        transforms.Resize(size),\n",
    "        transforms.ToTensor(),\n",
    "        transforms.Normalize((0.485, 0.456, 0.406), \n",
    "                             (0.229, 0.224, 0.225))\n",
    "    ])\n",
    "    \n",
    "    image = img_transform(image)[:3,:,:].unsqueeze(0)\n",
    "    return image"
   ]
  },
  {
   "cell_type": "code",
   "execution_count": null,
   "metadata": {},
   "outputs": [],
   "source": [
    "content = load_image('images/architecture.jpg').to(device)\n",
    "style = load_image('images/theStarryNight.jpg',shape=content.shape[-2:]).to(device)\n",
    "\n",
    "print(\"content size: \"+str(content.size()))\n",
    "print(\"style size: \"+str(style.size()))"
   ]
  },
  {
   "cell_type": "markdown",
   "metadata": {},
   "source": [
    "### Restore Image\n",
    "It's a function to display our images from tensor."
   ]
  },
  {
   "cell_type": "code",
   "execution_count": null,
   "metadata": {},
   "outputs": [],
   "source": [
    "def restore_image(tensor):\n",
    "    '''\n",
    "    Convert a Tensor image to NumPy image for display\n",
    "    '''\n",
    "    \n",
    "    image = tensor.to(\"cpu\").clone().detach()\n",
    "    image = image.numpy().squeeze()\n",
    "    image = image.transpose(1,2,0)\n",
    "    image = image * np.array((0.229, 0.224, 0.225)) + np.array((0.485, 0.456, 0.406))\n",
    "    image = image.clip(0,1)\n",
    "    \n",
    "    return image"
   ]
  },
  {
   "cell_type": "code",
   "execution_count": null,
   "metadata": {},
   "outputs": [],
   "source": [
    "restore_image(content)"
   ]
  },
  {
   "cell_type": "code",
   "execution_count": null,
   "metadata": {},
   "outputs": [],
   "source": [
    "# display the images\n",
    "fig, (ax1, ax2) = plt.subplots(1, 2, figsize=(20, 10))\n",
    "\n",
    "ax1.set_title(\"Content Image\",fontsize = 15)\n",
    "ax1.imshow(restore_image(content))\n",
    "ax2.set_title(\"Style Image\",fontsize = 15)\n",
    "ax2.imshow(restore_image(style))"
   ]
  },
  {
   "cell_type": "markdown",
   "metadata": {},
   "source": [
    "### Content and Style Features"
   ]
  },
  {
   "cell_type": "code",
   "execution_count": null,
   "metadata": {},
   "outputs": [],
   "source": [
    "def get_features(image, model, layers=None):\n",
    "    '''\n",
    "    Run an image forward through a model and get the features for \n",
    "    a set of layers. Default layers are for VGGNet matching Gatys et al\n",
    "    ''' \n",
    "    ## completing the mapping layer names of PyTorch's VGGNet to names from the paper\n",
    "    ## we need the layers for the content and style representations of an image\n",
    "    if layers is None:\n",
    "        layers = {'0': 'conv1_1',\n",
    "                  '5': 'conv2_1',\n",
    "                  '10': 'conv3_1',\n",
    "                  '19': 'conv4_1',\n",
    "                  '21': 'conv4_2', ## content representation\n",
    "                  '28': 'conv5_1'}\n",
    "        \n",
    "    features = {}\n",
    "    x = image\n",
    "    # model._modules is a dictionary holding each module in the model\n",
    "    for name, layer in model._modules.items():\n",
    "        x = layer(x)\n",
    "        if name in layers:\n",
    "            features[layers[name]] = x\n",
    "            \n",
    "    return features"
   ]
  },
  {
   "cell_type": "markdown",
   "metadata": {},
   "source": [
    "### Gram Matrix"
   ]
  },
  {
   "cell_type": "code",
   "execution_count": null,
   "metadata": {},
   "outputs": [],
   "source": [
    "def gram_matrix(tensor):\n",
    "    '''\n",
    "    Calculate the Gram Matrix of a given tensor \n",
    "    '''\n",
    "    \n",
    "    ## get the batch_size, depth, height, and width of the Tensor\n",
    "    batch_size, c, h, w = tensor.size()\n",
    "    \n",
    "    ## reshape it, so we're multiplying the features for each channel\n",
    "    tensor = tensor.reshape(c, h * w)\n",
    "    \n",
    "    ## calculate the gram matrix\n",
    "    gram = torch.mm(tensor, torch.transpose(tensor, 0, 1))\n",
    "    \n",
    "    return gram"
   ]
  },
  {
   "cell_type": "markdown",
   "metadata": {},
   "source": [
    "### Preparation\n",
    "Before we start our training, we need to prepare some variables."
   ]
  },
  {
   "cell_type": "code",
   "execution_count": null,
   "metadata": {},
   "outputs": [],
   "source": [
    "# content_features for computing content loss\n",
    "content_features = get_features(content, vgg19_model)\n",
    "\n",
    "# style_features for computing style loss\n",
    "style_features = get_features(style, vgg19_model)\n",
    "style_grams = {layer: gram_matrix(style_features[layer]) for layer in style_features}\n",
    "\n",
    "# initialize target image\n",
    "target = content.clone().requires_grad_(True).to(device)"
   ]
  },
  {
   "cell_type": "code",
   "execution_count": null,
   "metadata": {},
   "outputs": [],
   "source": [
    "# style_weights for different layers\n",
    "style_weights = {'conv1_1': 1.,\n",
    "                 'conv2_1': 0.8,\n",
    "                 'conv3_1': 0.6,\n",
    "                 'conv4_1': 0.4,\n",
    "                 'conv5_1': 0.2}\n",
    "\n",
    "# weights between conten loss and style loss\n",
    "content_weight = 1  # alpha\n",
    "style_weight = 1e4  # beta"
   ]
  },
  {
   "cell_type": "markdown",
   "metadata": {},
   "source": [
    "### Style Loss and Content Loss\n",
    "Then we define a function to calculate total loss:"
   ]
  },
  {
   "cell_type": "code",
   "execution_count": null,
   "metadata": {},
   "outputs": [],
   "source": [
    "def get_cost(target_features):\n",
    "    '''\n",
    "    Compute the total loss\n",
    "    '''\n",
    "    \n",
    "    # calculate the content loss\n",
    "    content_loss = torch.mean((target_features['conv4_2'] - content_features['conv4_2'])**2)\n",
    "    \n",
    "    # calculate the tyle loss\n",
    "    style_loss = 0\n",
    "    for layer in style_weights:\n",
    "        target_feature = target_features[layer]\n",
    "        _, d, h, w = target_feature.shape\n",
    "        \n",
    "        # calculate the gram matrices of target image and style image\n",
    "        target_gram = gram_matrix(target_feature)\n",
    "        style_gram = style_grams[layer]\n",
    "        \n",
    "        # calculate the style loss for one layer and add it to the style loss\n",
    "        layer_style_loss = style_weights[layer] * torch.mean((target_gram - style_gram)**2)\n",
    "        style_loss += layer_style_loss / (d * h * w)\n",
    "    \n",
    "    # calculate the total loss\n",
    "    total_loss = content_weight * content_loss + style_weight * style_loss\n",
    "    \n",
    "    return total_loss"
   ]
  },
  {
   "cell_type": "markdown",
   "metadata": {},
   "source": [
    "### Generate Target Image!"
   ]
  },
  {
   "cell_type": "code",
   "execution_count": null,
   "metadata": {},
   "outputs": [],
   "source": [
    "# for displaying the target image, intermittently\n",
    "iterations = 500\n",
    "\n",
    "# iteration hyperparameters\n",
    "optimizer = optim.Adam([target], lr=0.01)\n",
    "steps = 5000  # decide how many iterations to update your image\n",
    "\n",
    "print('Generating:\\n')\n",
    "for it in range(1, steps+1):\n",
    "    \n",
    "    #calculate total loss \n",
    "    target_features = get_features(target, vgg19_model)\n",
    "    total_loss = get_cost(target_features)\n",
    "    \n",
    "    # update your target image\n",
    "    optimizer.zero_grad()\n",
    "    total_loss.backward()\n",
    "    optimizer.step()\n",
    "    \n",
    "    # display intermediate images and print the loss\n",
    "    if  it % iterations == 0:\n",
    "        print('Iteration: ', it)\n",
    "        print('Total loss: ', total_loss.item())\n",
    "        plt.imshow(restore_image(target))\n",
    "        plt.show()"
   ]
  },
  {
   "cell_type": "markdown",
   "metadata": {},
   "source": [
    "### Display and Store"
   ]
  },
  {
   "cell_type": "code",
   "execution_count": null,
   "metadata": {},
   "outputs": [],
   "source": [
    "# display content and final, target image\n",
    "fig, (ax1, ax2) = plt.subplots(1, 2, figsize=(20, 10))\n",
    "ax1.imshow(restore_image(content))\n",
    "ax2.imshow(restore_image(target))"
   ]
  },
  {
   "cell_type": "code",
   "execution_count": null,
   "metadata": {},
   "outputs": [],
   "source": [
    "# store the target image you've trained\n",
    "target_image = Image.fromarray((restore_image(target) * 255).astype(np.uint8))\n",
    "target_image.save('Style-Transfer-Image.jpg')"
   ]
  }
 ],
 "metadata": {
  "kernelspec": {
   "display_name": "Python 3",
   "language": "python",
   "name": "python3"
  },
  "language_info": {
   "codemirror_mode": {
    "name": "ipython",
    "version": 3
   },
   "file_extension": ".py",
   "mimetype": "text/x-python",
   "name": "python",
   "nbconvert_exporter": "python",
   "pygments_lexer": "ipython3",
   "version": "3.7.3"
  }
 },
 "nbformat": 4,
 "nbformat_minor": 2
}
